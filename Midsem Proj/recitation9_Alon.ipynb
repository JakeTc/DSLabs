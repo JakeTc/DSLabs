{
 "cells": [
  {
   "cell_type": "code",
   "execution_count": null,
   "metadata": {},
   "outputs": [],
   "source": [
    "# Run this cell to set up your notebook\n",
    "import csv\n",
    "import numpy as np\n",
    "import pandas as pd\n",
    "import matplotlib.pyplot as plt\n",
    "import zipfile\n",
    "import json\n",
    "\n",
    "# Ensure that Pandas shows at least 280 characters in columns, so we can see full tweets\n",
    "pd.set_option('max_colwidth', 280)\n",
    "\n",
    "%matplotlib inline\n",
    "plt.style.use('fivethirtyeight')\n",
    "import seaborn as sns\n",
    "sns.set()\n",
    "sns.set_context(\"talk\")\n",
    "import re"
   ]
  },
  {
   "cell_type": "code",
   "execution_count": null,
   "metadata": {},
   "outputs": [],
   "source": [
    "# load tweets and convert data to dataframe\n",
    "with open('data/2016-2017.json', 'rb') as f:\n",
    "    old_tweets = json.load(f)\n",
    "with open('data/2017-2018.json', 'rb') as f:\n",
    "    new_tweets = json.load(f)\n",
    "df_old = pd.DataFrame(old_tweets)\n",
    "df_new = pd.DataFrame(new_tweets)\n",
    "df_new = df_new.iloc[:10]\n",
    "df_old = df_old.iloc[:10]"
   ]
  },
  {
   "cell_type": "code",
   "execution_count": null,
   "metadata": {},
   "outputs": [],
   "source": [
    "df1 = df_old[['id', 'created_at', 'source', 'text', 'retweet_count']] \n",
    "df2 = df_new[['id', 'created_at', 'source', 'full_text', 'retweet_count']]\n",
    "df2 = df2.rename(columns={'full_text': 'text'})\n",
    "df1.loc[:, 'id'] = df1['id'].astype('int64')\n",
    "df2.loc[:, 'id'] = df2['id'].astype('int64')\n",
    "print(df1.id.dtype)\n",
    "df1 = df1.set_index('id')\n",
    "df2 = df2.set_index('id')\n",
    "df = pd.concat([df1, df2])\n",
    "df.sort_index()\n",
    "df.size"
   ]
  },
  {
   "cell_type": "code",
   "execution_count": null,
   "metadata": {},
   "outputs": [],
   "source": [
    "df"
   ]
  },
  {
   "cell_type": "code",
   "execution_count": null,
   "metadata": {},
   "outputs": [],
   "source": [
    "# separate 'text' column into words\n",
    "df_sep = df['text'].str.split(expand=True).stack().to_frame().reset_index()\n",
    "df_sep = df_sep.rename(columns={'level_1': 'num', 0: 'word'})\n",
    "tmp = df_sep.drop('num', axis=1)\n",
    "print(len(tmp))\n",
    "tmp.head(20)"
   ]
  },
  {
   "cell_type": "code",
   "execution_count": null,
   "metadata": {},
   "outputs": [],
   "source": [
    "# remove stopwords\n",
    "import nltk\n",
    "import nltk.corpus\n",
    "nltk.download('stopwords')\n",
    "nltk.download('wordnet')"
   ]
  },
  {
   "cell_type": "code",
   "execution_count": null,
   "metadata": {},
   "outputs": [],
   "source": [
    "from nltk.corpus import stopwords\n",
    "stop_words = stopwords.words('english')\n",
    "print(stop_words)"
   ]
  },
  {
   "cell_type": "code",
   "execution_count": null,
   "metadata": {},
   "outputs": [],
   "source": [
    "stop_words.extend(['rt','t','co','https','realdonaldtrump','amp',\"u\",'hillary','trump2016','trump','clinton','http','ha','wa'])\n",
    "tmp = tmp[~tmp['word'].isin(stop_words)]\n",
    "tmp.head(20)"
   ]
  },
  {
   "cell_type": "code",
   "execution_count": null,
   "metadata": {},
   "outputs": [],
   "source": [
    "# deal with plurals\n",
    "from nltk.stem import WordNetLemmatizer\n",
    "\n",
    "lemmatizer = WordNetLemmatizer()\n",
    "\n",
    "print(\"rocks: \",lemmatizer.lemmatize(\"rocks\"))\n",
    "print(\"better: \",lemmatizer.lemmatize(\"better\", pos = 'a'))\n",
    "print(\"studying: \",lemmatizer.lemmatize(\"studying\", pos = 'v'))"
   ]
  },
  {
   "cell_type": "code",
   "execution_count": null,
   "metadata": {},
   "outputs": [],
   "source": [
    "nltk.download('punkt')\n",
    "text = 'studies studying cries cry'\n",
    "tokenization = nltk.word_tokenize(text)\n",
    "print(\"tokenization: \",tokenization)\n",
    "for w in tokenization:\n",
    "    print(\"Lemma for {} is {}\".format(w, lemmatizer.lemmatize(w)))"
   ]
  },
  {
   "cell_type": "code",
   "execution_count": null,
   "metadata": {},
   "outputs": [],
   "source": [
    "tmp['word'] = tmp.word.apply(lemmatizer.lemmatize)\n",
    "tmp.head(20)"
   ]
  },
  {
   "cell_type": "code",
   "execution_count": null,
   "metadata": {},
   "outputs": [],
   "source": [
    "# get the words with top 5 frequency\n",
    "top5 = tmp['word'].value_counts(ascending=True).nlargest(5).to_frame()\n",
    "top5"
   ]
  },
  {
   "cell_type": "code",
   "execution_count": null,
   "metadata": {},
   "outputs": [],
   "source": [
    "# fileter the ids to make sure each id contains at least one of the words in top5\n",
    "tmp2 = tmp[tmp['word'].isin(top5.index)]\n",
    "tmp2"
   ]
  },
  {
   "cell_type": "code",
   "execution_count": null,
   "metadata": {},
   "outputs": [],
   "source": [
    "# get the first 10 unique ids\n",
    "idlist = tmp2['id'].unique()\n",
    "idlist = idlist[:10]\n",
    "idlist"
   ]
  },
  {
   "cell_type": "code",
   "execution_count": null,
   "metadata": {},
   "outputs": [],
   "source": [
    "top5.index"
   ]
  },
  {
   "cell_type": "code",
   "execution_count": null,
   "metadata": {},
   "outputs": [],
   "source": [
    "df.loc[idlist]"
   ]
  },
  {
   "cell_type": "code",
   "execution_count": null,
   "metadata": {},
   "outputs": [],
   "source": [
    "# create the tf-matrix\n",
    "matrix = np.zeros((10, 5))\n",
    "words = top5.index\n",
    "for i in range(10):\n",
    "    for j in range(5):\n",
    "        if (words[j]) in df['text'].loc[idlist[i]].split():\n",
    "            matrix[i][j] += 1\n",
    "matrix"
   ]
  },
  {
   "cell_type": "markdown",
   "metadata": {},
   "source": [
    "# PCA\n",
    "\n",
    "Are there eigenvalues for non-square matrices?\n",
    "\n",
    "It is not exactly true that non-square matrices can have eigenvalues. Indeed, the definition of an eigenvalue is for square matrices. For non-square matrices, we can define singular values:\n",
    "\n",
    "Definition: The singular values of a m×n matrix A are the positive square roots of the nonzero eigenvalues of the corresponding matrix ATA. The corresponding eigenvectors are called the singular vectors.\n",
    "\n",
    "\n",
    "To calculate the SVD for a non-square matrix, we use left singular vectors and right singular vectors for a matrix A.\n",
    "https://math.stackexchange.com/questions/3982195/what-are-left-and-right-singular-vectors-in-svd"
   ]
  },
  {
   "cell_type": "code",
   "execution_count": null,
   "metadata": {},
   "outputs": [],
   "source": [
    "mu = matrix.mean(axis = 0)\n",
    "\n",
    "matrix_ =matrix - mu\n",
    "\n",
    "Sigma = matrix_.T @ matrix / len(matrix_)\n",
    "\n",
    "import scipy.linalg as linalg\n",
    "u,lam, uh = linalg.svd(Sigma)"
   ]
  },
  {
   "cell_type": "code",
   "execution_count": null,
   "metadata": {},
   "outputs": [],
   "source": [
    "u"
   ]
  },
  {
   "cell_type": "code",
   "execution_count": null,
   "metadata": {},
   "outputs": [],
   "source": [
    "# PCA\n",
    "from sklearn.decomposition import PCA\n",
    "pca = PCA(n_components=5)\n",
    "pca.fit(matrix)\n",
    "print(pca.components_)"
   ]
  },
  {
   "cell_type": "code",
   "execution_count": null,
   "metadata": {},
   "outputs": [],
   "source": [
    "print(pca.explained_variance_)"
   ]
  },
  {
   "cell_type": "code",
   "execution_count": null,
   "metadata": {},
   "outputs": [],
   "source": [
    "import seaborn as sns\n",
    "fig = plt.figure( figsize = (20,10))\n",
    "sns.barplot(x = words, y = u[:,0])"
   ]
  },
  {
   "cell_type": "code",
   "execution_count": null,
   "metadata": {},
   "outputs": [],
   "source": [
    "fig = plt.figure( figsize = (20,10))\n",
    "sns.barplot(x = words, y = u[:,1])"
   ]
  },
  {
   "cell_type": "code",
   "execution_count": null,
   "metadata": {},
   "outputs": [],
   "source": [
    "fig = plt.figure( figsize = (20,10))\n",
    "sns.barplot(x = words, y = u[:,2])"
   ]
  },
  {
   "cell_type": "code",
   "execution_count": null,
   "metadata": {},
   "outputs": [],
   "source": [
    "fig = plt.figure( figsize = (20,10))\n",
    "sns.barplot(x = words, y = u[:,3])"
   ]
  },
  {
   "cell_type": "code",
   "execution_count": null,
   "metadata": {},
   "outputs": [],
   "source": [
    "fig = plt.figure( figsize = (20,10))\n",
    "sns.barplot(x = words, y = u[:,4])"
   ]
  }
 ],
 "metadata": {
  "kernelspec": {
   "display_name": "Python 3",
   "language": "python",
   "name": "python3"
  },
  "language_info": {
   "codemirror_mode": {
    "name": "ipython",
    "version": 3
   },
   "file_extension": ".py",
   "mimetype": "text/x-python",
   "name": "python",
   "nbconvert_exporter": "python",
   "pygments_lexer": "ipython3",
   "version": "3.8.8"
  }
 },
 "nbformat": 4,
 "nbformat_minor": 4
}
