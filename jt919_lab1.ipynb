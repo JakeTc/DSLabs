{
 "cells": [
  {
   "cell_type": "markdown",
   "source": [
    "<div class=\"alert alert-block alert-info\">\r\n",
    "<h3>Student Information</h3> Please provide information about yourself.<br>\r\n",
    "<b>Name</b>: Jake Truongcao<br>\r\n",
    "<b>NetID</b>: jt919<br>\r\n",
    "<b>Recitation #</b>: 91<br>\r\n",
    "<b>Notes to Grader</b> (optional):<br>\r\n",
    "<br><br>\r\n",
    "<b>IMPORTANT</b>\r\n",
    "Your work will not be graded withour your initials below<br>\r\n",
    "I certify that this lab represents my own work and I have read the RU academic intergrity policies at<br>\r\n",
    "<a href=\"https://www.cs.rutgers.edu/academic-integrity/introduction\">https://www.cs.rutgers.edu/academic-integrity/introduction </a><br>\r\n",
    "<b>Initials</b>:      JT\r\n",
    "\r\n",
    "\r\n",
    "<h3>Grader Notes</h3>\r\n",
    "<b>Your Grade<b>:<br>\r\n",
    "<b>Grader Initials</b>:<br>\r\n",
    "<b>Grader Comments</b> (optional):<br>\r\n",
    "</div>"
   ],
   "metadata": {}
  },
  {
   "cell_type": "markdown",
   "source": [
    "### CS 439 - Introduction to Data Science\n",
    "### Fall 2021\n",
    "\n",
    "### Lab 1 - Getting Started (40 points)\n",
    "### Due Date: Monday September 13, 2020 on or before 11:59 PM\n",
    "\n",
    "This is the first lab of CS 439. The goal of this lab is to help you familiarize yourself with Jupyter Notebooks and some very basic python functions. We will also introduce you to `matplotlib`, a python visualization library. This notebook has multiple tasks that you need to complete. To complete a task, just double click on the cell (notebook must be opened in Jupyter) and enter your answer. Be sure to save the notebook often (ctrl-S) and execute the cell (Shift-Enter) to make sure you code is saved and executes correctly.\n",
    "\n",
    "## Course Policies\n",
    "\n",
    "**Collaboration Policy**\n",
    "\n",
    "Data science is a collaborative activity. While you may talk with others about the labs, we ask that you **write your solutions individually**. You are not allowed to copy code from other notebooks. Attempting to submit code that is not yours can result in penalties and academic disciplinary actions. Please consult course staff for any clarification regarding collaboration policies."
   ],
   "metadata": {
    "nbgrader": {
     "grade": false,
     "grade_id": "intro",
     "locked": true,
     "schema_version": 2,
     "solution": false
    }
   }
  },
  {
   "cell_type": "markdown",
   "source": [
    "### Running a Cell \n",
    "\n",
    "Try running the following cell.  If you are unfamiliar with Jupyter Notebooks, consider skimming [this tutorial](http://nbviewer.jupyter.org/github/jupyter/notebook/blob/master/docs/source/examples/Notebook/Notebook%20Basics.ipynb) or selecting **Help -> User Interface Tour** in the menu above. TO run the cell below, place the cursor on the cell and press (SHIFT-ENTER) or choose Run from the Jupyter menu above.\n",
    "### IMPORTANT\n",
    "It is important that you run this notebook sequentially. That is, if you get an error from a cell, be sure to check if the cells before the error cell has been executed. In most cases, if a state of a variable is not initialized, then it can cause the cell execution to throw an error message."
   ],
   "metadata": {
    "nbgrader": {
     "grade": false,
     "grade_id": "running-a-cell",
     "locked": true,
     "schema_version": 2,
     "solution": false
    }
   }
  },
  {
   "cell_type": "markdown",
   "source": [
    "### Jupyter Shortcuts"
   ],
   "metadata": {
    "nbgrader": {
     "grade": false,
     "grade_id": "hello-world",
     "locked": true,
     "schema_version": 2,
     "solution": false
    }
   }
  },
  {
   "cell_type": "markdown",
   "source": [
    "Even if you are familiar with Jupyter, we strongly encourage you to become proficient with keyboard shortcuts (this will save you time in the future). To learn about keyboard shortcuts, go to **Help -> Keyboard Shortcuts** in the menu above. \n",
    "\n",
    "Here are a few we like:\n",
    "1. `ctrl`+`return` : *Evaluate the current cell*\n",
    "1. `shift`+`return`: *Evaluate the current cell and move to the next*\n",
    "1. `esc` : *command mode* (may need to press before using any of the commands below)\n",
    "1. `a` : *create a cell above*\n",
    "1. `b` : *create a cell below*\n",
    "1. `dd` : *delete a cell*\n",
    "1. `m` : *convert a cell to markdown*\n",
    "1. `y` : *convert a cell to code*"
   ],
   "metadata": {
    "nbgrader": {
     "grade": false,
     "grade_id": "shortcuts",
     "locked": true,
     "schema_version": 2,
     "solution": false
    }
   }
  },
  {
   "cell_type": "markdown",
   "source": [
    "### Hello World\n",
    "This is the first code you write in any language. In python, it is really simple. Execute the code (shift-enter) to see the output cell below the code."
   ],
   "metadata": {}
  },
  {
   "cell_type": "code",
   "execution_count": null,
   "source": [
    "print(\"Hello World!\")"
   ],
   "outputs": [],
   "metadata": {}
  },
  {
   "cell_type": "markdown",
   "source": [
    "## Task 1 - Numpy Basics\n",
    "In this part we will do few short exercises to understand how numpy works. Prior to begining this part, please read the numpy documentation at https://docs.scipy.org/doc/numpy/user/quickstart.html"
   ],
   "metadata": {}
  },
  {
   "cell_type": "code",
   "execution_count": null,
   "source": [
    "# NumPy is an extension module for Python (mostly written in C) and provides precompiled mathematical and numerical \r\n",
    "# functions with guaranteed execution speed. Numpy is so important that many of the other python libraries depend on numpy\r\n",
    "# we need to import python modules before use. In this case, we rename numpy as np. You should execute this cell before \r\n",
    "# other tasks can be completed.\r\n",
    "import numpy as np"
   ],
   "outputs": [],
   "metadata": {
    "ExecuteTime": {
     "end_time": "2018-01-18T23:21:43.841930Z",
     "start_time": "2018-01-18T23:21:43.193583Z"
    },
    "nbgrader": {
     "grade": false,
     "grade_id": "imports",
     "locked": true,
     "schema_version": 2,
     "solution": false
    }
   }
  },
  {
   "cell_type": "markdown",
   "source": [
    "### numpy documentation\r\n",
    "Using numpy to complete the code to accomplish following tasks. You may want to refer to numpy documention\r\n",
    "https://www.numpy.org/devdocs/reference/\r\n",
    "to understand how to do these things. Learning how to read and understand documentation is a key skill\r\n",
    "that you need. "
   ],
   "metadata": {}
  },
  {
   "cell_type": "code",
   "execution_count": null,
   "source": [
    "# create an array of 10 zeros\r\n",
    "A = np.zeros(10)\r\n",
    "print(A)\r\n",
    "\r\n",
    "# create an array of 10 1's\r\n",
    "A = np.ones(10)\r\n",
    "print(A)\r\n",
    "\r\n",
    "# create a 1D array that contains numbers from 0 to 99\r\n",
    "C = np.arange(100)\r\n",
    "print(C)\r\n",
    "\r\n",
    "# convert the array to a 10x10 matrix/2D Array  \r\n",
    "# The array should look like [[0,1,..,9],[10,11,..,19],....[90,91,...99]]\r\n",
    "D = np.arange(100).reshape(10, 10)\r\n",
    "print(D)\r\n",
    "\r\n",
    "# create a 1D array that contains all odd numbers from 1 to 99\r\n",
    "E = np.arange(1, 100, 2)\r\n",
    "print(E)\r\n",
    "\r\n",
    "# create a 3x3 identity matrix\r\n",
    "F = np.eye(3)\r\n",
    "print(F)\r\n"
   ],
   "outputs": [],
   "metadata": {}
  },
  {
   "cell_type": "markdown",
   "source": [
    "###  Random Numbers "
   ],
   "metadata": {}
  },
  {
   "cell_type": "code",
   "execution_count": null,
   "source": [
    "# Generate a random number between 0 and 1\r\n",
    "print(np.random.rand())\r\n",
    "\r\n",
    "# Generate 10 random numbers from the standard normal distribution\r\n",
    "print(np.random.normal(0, 1, 10))\r\n",
    "\r\n",
    "# create a 10x10 matrix, that contains values from 1 to 100\r\n",
    "print(np.random.randint(0, 100, (10, 10)))"
   ],
   "outputs": [],
   "metadata": {}
  },
  {
   "cell_type": "markdown",
   "source": [
    "### Linearly Spaced Points\n",
    "There are many tasks that you need to generate a set of points in a range that are linearly spaced. For this task\n",
    "we will use numpy modules arnage and linspace.\n",
    "\n",
    "Note that the tutorial uses `np.arange`. While this is fine in some cases, we generally prefer to use `np.linspace`. `np.linspace(a, b, N)` divides the interval `[a, b]` into N points, while `np.arange(a, b, s)` will step from `a` to `b` with a fixed step size `s`.\n",
    "\n",
    "One thing to keep in mind is that `np.linspace` always includes both end points while `np.arange` will *not* include the second end point `b`. For this reason, when we are plotting ranges of values we tend to prefer `np.linspace`.\n",
    "\n",
    "Write two functions that return the same result."
   ],
   "metadata": {}
  },
  {
   "cell_type": "code",
   "execution_count": null,
   "source": [
    "# create an array of linearly spaced points from -5(inclusive) to 6 (not inclusive) spaced by 1\r\n",
    "print(np.arange(-5, 6, 1))\r\n",
    "\r\n",
    "# do the same with linspace\r\n",
    "print(np.linspace(-5, 6, 11, endpoint=False))"
   ],
   "outputs": [],
   "metadata": {}
  },
  {
   "cell_type": "markdown",
   "source": [
    "### Useful tip about function definition\n",
    "\n",
    "If you are ever confused about how a function works or behaves, click to the right of the function name, or inside the parentheses following the function. Then type `Shift` + `Tab`, and a window with the function's signature and docstring will appear. Holding down `Shift` and pressing `Tab` multiple times will bring up more and more detailed levels of documentation. Try this out in the cells above on `np.arange` and `np.linspace`!"
   ],
   "metadata": {}
  },
  {
   "cell_type": "markdown",
   "source": [
    "## Task 2 - Plotting\n",
    "Plotting is a key activity in Data Science. Matplotlib is a widely used plotting library in python.\n",
    "Here is the documentation: https://matplotlib.org/api/pyplot_api.html.\n",
    "We're going to start by going through the official `pyplot` tutorial. Please go through the [tutorial](pyplot.ipynb) and familiarize yourself with the basics of `pyplot`. This should take roughly 25 minutes."
   ],
   "metadata": {
    "nbgrader": {
     "grade": false,
     "grade_id": "part-a",
     "locked": true,
     "schema_version": 2,
     "solution": false
    }
   }
  },
  {
   "cell_type": "code",
   "execution_count": null,
   "source": [
    "# Matplotlib is a Python 2D plotting library \r\n",
    "import matplotlib.pyplot as plt\r\n",
    "\r\n",
    "# %matplotlib inline is a magic command in Python that visualizes and stores any plots you draw or any plots \r\n",
    "# we provide directly in the notebook.\r\n",
    "%matplotlib inline"
   ],
   "outputs": [],
   "metadata": {}
  },
  {
   "cell_type": "markdown",
   "source": [
    "Now that you're familiar with the basics of `pyplot`, let's practice with some `pyplot` questions."
   ],
   "metadata": {
    "nbgrader": {
     "grade": false,
     "grade_id": "part-b",
     "locked": true,
     "schema_version": 2,
     "solution": false
    }
   }
  },
  {
   "cell_type": "markdown",
   "source": [
    "### Question 2.1\r\n",
    "Let's visualize the function $f(t) = 3\\sin(2\\pi t)$. Set the x limit of all figures to $[0, \\pi]$ and the y limit to $[-10, 10]$. Plot the sine function using `plt.plot` with 30 red plus signs. Additionally, make sure the x ticks are labeled $[0, \\frac{\\pi}{2}, \\pi]$, and that your axes are labeled as well.\r\n",
    "\r\n",
    "Your plot should look like the following:\r\n",
    "\r\n",
    "![1a.png](1a.png)\r\n",
    "\r\n",
    "Hint 1: You can set axis bounds with `plt.axis`.\r\n",
    "\r\n",
    "Hint 2: You can set xticks and labels with `plt.xticks`.\r\n",
    "\r\n",
    "Hint 3: Make sure you add `plt.xlabel`, `plt.ylabel`, `plt.title`"
   ],
   "metadata": {
    "nbgrader": {
     "grade": false,
     "grade_id": "q1a",
     "locked": true,
     "schema_version": 2,
     "solution": false
    }
   }
  },
  {
   "cell_type": "code",
   "execution_count": null,
   "source": [
    "import unicodedata\r\n",
    "\r\n",
    "### BEGIN SOLUTION\r\n",
    "def f(t):\r\n",
    "    return 3 * np.sin(2 * np.pi * t)\r\n",
    "t = np.linspace(0, np.pi, 30)\r\n",
    "plt.axis([0, np.pi, -10, 10])\r\n",
    "plt.xticks([0, np.pi/2, np.pi], [\"0\", \"$\\pi/2$\", \"$\\pi$\"])\r\n",
    "plt.xlabel(\"$t$\")\r\n",
    "plt.ylabel(\"$f(t)$\")\r\n",
    "plt.title(\"$f(t) = 3sin(2\\pi t)$\")\r\n",
    "plt.plot(t, f(t), 'r+')\r\n",
    "plt.show()\r\n",
    "\r\n",
    "### END SOLUTION"
   ],
   "outputs": [],
   "metadata": {
    "nbgrader": {
     "grade": true,
     "grade_id": "q1a-answer",
     "locked": false,
     "points": 1,
     "schema_version": 2,
     "solution": true
    }
   }
  },
  {
   "cell_type": "markdown",
   "source": [
    "### Question 2.2\n",
    "Suppose we want to visualize the function $g(t) = a \\cdot \\sin(2 \\pi f t)$ while varying the values $f, a$. Generate a 2 by 2 plot that plots the function $g(t)$ as a line plot with values $f = 2, 8$ and $a = 2, 8$. Since there are 2 values of $f$ and 2 values of $a$ there are a total of 4 combinations, hence a 2 by 2 plot. The rows should vary in $a$ and the columns should vary in $f$.\n",
    "\n",
    "Set the x limit of all figures to $[0, \\pi]$ and the y limit to $[-10, 10]$. The figure size should be 8 by 8. Make sure to label your x and y axes with the appropriate value of $f$ or $a$. Additionally, make sure the x ticks are labeled $[0, \\frac{\\pi}{2}, \\pi]$. Your overall plot should look something like this:\n",
    "\n",
    "![2by2](1b.png)\n",
    "\n",
    "Hint 1: Modularize your code and use loops.\n",
    "\n",
    "Hint 2: Are your plots too close together such that the labels are overlapping with other plots? Look at the [`plt.subplots_adjust`](https://matplotlib.org/api/_as_gen/matplotlib.pyplot.subplots_adjust.html) function.\n",
    "\n",
    "Hint 3: Having trouble setting the x-axis ticks and ticklabels? Look at the [`plt.xticks`](https://matplotlib.org/api/_as_gen/matplotlib.pyplot.xticks.html) function.\n",
    "\n",
    "Hint 4: You can add title to overall plot with `plt.suptitle`."
   ],
   "metadata": {
    "nbgrader": {
     "grade": false,
     "grade_id": "q1b",
     "locked": true,
     "schema_version": 2,
     "solution": false
    }
   }
  },
  {
   "cell_type": "code",
   "execution_count": null,
   "source": [
    "### BEGIN SOLUTION\r\n",
    "def g(t, a, f):\r\n",
    "    return a * np.sin(2 * np.pi * f * t)\r\n",
    "\r\n",
    "plt.figure(figsize=(8, 8))\r\n",
    "\r\n",
    "#make the 4 combinations of f and a\r\n",
    "f = [2, 2, 8, 8]\r\n",
    "a = [2, 8, 2, 8]\r\n",
    "t = np.linspace(0, np.pi, 500)\r\n",
    "\r\n",
    "for i in range(4):\r\n",
    "    plt.subplot(2, 2, i + 1)\r\n",
    "    plt.axis([0, np.pi, -10, 10])\r\n",
    "    plt.xticks([0, np.pi/2, np.pi], [\"0\", \"$\\pi/2$\", \"$\\pi$\"])\r\n",
    "    plt.xlabel(\"a: \" + str(a[i]))\r\n",
    "    plt.ylabel(\"f: \" + str(f[i]))\r\n",
    "    #plt.title(\"$g(t) = asin(2\\pi f t)$\")\r\n",
    "    plt.tight_layout(pad=2)\r\n",
    "    plt.subplots_adjust(top=0.9, bottom=0.2, right=0.9, left = 0.2)\r\n",
    "    plt.plot(t, g(t, a[i], f[i]), lw=1)\r\n",
    "\r\n",
    "plt.suptitle(\"Sine waves with varying a = [2, 8], f = [2, 8]\")\r\n",
    "### END SOLUTION"
   ],
   "outputs": [],
   "metadata": {
    "nbgrader": {
     "grade": true,
     "grade_id": "q1b-answer",
     "locked": false,
     "points": 1,
     "schema_version": 2,
     "solution": true
    }
   }
  },
  {
   "cell_type": "markdown",
   "source": [
    "## Question 2.3 3D Plotting\r\n",
    "The code below plot function f(x,y) in 3D. The function is \r\n",
    "$$f(x,y) = x^2 + y^2$$\r\n",
    "### Activity 1\r\n",
    "Observe the values of (x,y) that minimizes the function f(x,y)\r\n",
    "\r\n",
    "Answer: (0, 0)\r\n",
    "\r\n",
    "### Activity 2\r\n",
    "Change the function to $$f(x,y) = xy $$ and re-plot. Estimate the values (x,y) that minimizes f(x,y)?\r\n",
    "\r\n",
    "Answer: ($-\\infty$, $\\infty$) or ($\\infty$, $-\\infty$)"
   ],
   "metadata": {}
  },
  {
   "cell_type": "code",
   "execution_count": null,
   "source": [
    "from mpl_toolkits import mplot3d\r\n",
    "%matplotlib inline\r\n",
    "import numpy as np\r\n",
    "import matplotlib.pyplot as plt\r\n",
    "\r\n",
    "def f(x, y):\r\n",
    "    #return (x**2 + y**2)\r\n",
    "    return (x *y)\r\n",
    "\r\n",
    "x = np.linspace(-6, 6, 30)\r\n",
    "y = np.linspace(-6, 6, 30)\r\n",
    "\r\n",
    "X, Y = np.meshgrid(x, y)\r\n",
    "Z = f(X, Y)\r\n",
    "\r\n",
    "fig = plt.figure()\r\n",
    "ax = plt.axes(projection='3d')\r\n",
    "ax.contour3D(X, Y, Z, 50, cmap='binary')\r\n",
    "ax.set_xlabel('x')\r\n",
    "ax.set_ylabel('y')\r\n",
    "ax.set_zlabel('z');"
   ],
   "outputs": [],
   "metadata": {}
  },
  {
   "cell_type": "markdown",
   "source": [
    "## Task 3 - Reading Documentation\n",
    "We should also familiarize ourselves with looking up documentation and learning how to read it. Below is a section of code that plots a basic wireframe. Replace each `# Your answer here` with a description of what the line above does, what the arguments being passed in are, and how the arguments are used in the function. For example your answer may look like,\n",
    "\n",
    "`np.arange(2, 5, 0.2)`\n",
    "\n",
    "`# This returns an array of numbers from 2 to 5 with an interval size of 0.2`\n",
    "\n",
    "Hint: The `Shift` + `Tab` (to see what a function does) tip from earlier in the notebook may help here."
   ],
   "metadata": {
    "nbgrader": {
     "grade": false,
     "grade_id": "q2",
     "locked": true,
     "schema_version": 2,
     "solution": false
    }
   }
  },
  {
   "cell_type": "code",
   "execution_count": null,
   "source": [
    "from mpl_toolkits.mplot3d import axes3d\r\n",
    "\r\n",
    "u = np.linspace(1.5*np.pi, -1.5*np.pi, 100)\r\n",
    "# This returns a list of 100 evenly spaced numbers between 1.5(pi) and -1.5(pi) including both endpoints.\r\n",
    "\r\n",
    "[x,y] = np.meshgrid(u, u)\r\n",
    "# This returns a 2d coordinate matrix/grid for 2d coordinate vectors within values 1.5(pi) and -1.5(pi) with 100 evenly spaced divisions on each axis.\r\n",
    "\r\n",
    "squared = np.sqrt(x.flatten()**2 + y.flatten()**2)\r\n",
    "z = np.cos(squared)\r\n",
    "#Normally, flatten() will take in an ND-array, and append all of the arrays together to get a 1D array. But here, because of meshgrid, every array in x and y are exactly the same (equal to u)\r\n",
    "# the flatten methods above both return u appended to itself 100 times. Lets call this new array v. Then, v**2 squares every value in the array. The addition sign does elementwise\r\n",
    "#addition, giving us one array that can be described as 2(v**2). Next, np.sqrt finds the square root of every element of this new array, which can be descrived as sqrt(2) * v. This is stored into squared.\r\n",
    "#finally, z is the resulting array after applying the cos function to every element in squared.\r\n",
    "\r\n",
    "z = z.reshape(x.shape)\r\n",
    "# Originally, z is a 1D array. On the other hand, x is a 100 by 100 array. x.shape will return the tuple (100, 100) which represents the shape of x.\r\n",
    "#The reshape method will take in this tuple and change z so that it takes on this shape, without changing the data in z.\r\n",
    "\r\n",
    "\r\n",
    "fig = plt.figure()\r\n",
    "ax = fig.add_subplot(111, projection='3d')\r\n",
    "# The first line creates a new figure and stores it in fig\r\n",
    "# The second line adds a subplot in the figure at position 1 in a 1 by 1 grid, and makes this subplot a 3d subplot\r\n",
    "\r\n",
    "ax.plot_wireframe(x, y, z, rstride=10, cstride=10)\r\n",
    "# This takes a grid of values, and projects it onto the specified surface (which, in this case, is the subplot we made in the previous line)\r\n",
    "# x and y specify the points that we want to look at, and z specifies the value of each of these points. rstride and cstride set the stride used to sample the input. In this case,\r\n",
    "# we are taking 10 by 10 (so 100) evenly spaced points, and plotting their value (z) onto the subplot from before\r\n",
    "\r\n",
    "ax.view_init(elev=50., azim=30)\r\n",
    "# view.init sets the elevation and the azimuth of the axes. elev stores the elevation angle (50) in the z plane. azim stores the azimuth angle (30) in the xy plane\r\n",
    "\r\n",
    "plt.savefig(\"figure1.png\")\r\n",
    "#plt.savefig saves the entire figure as a file named \"figure1.png\"\r\n"
   ],
   "outputs": [],
   "metadata": {
    "nbgrader": {
     "grade": true,
     "grade_id": "q2-answer",
     "locked": false,
     "points": 1,
     "schema_version": 2,
     "solution": true
    }
   }
  },
  {
   "cell_type": "markdown",
   "source": [
    "## Task 4 - Feedback\n",
    "What do you expect to learn from this course?\n",
    "Tell us what you think by creating a Markdown cell below this cell. Be sure to save your file (ctril-S) regularly."
   ],
   "metadata": {
    "nbgrader": {
     "grade": false,
     "grade_id": "q3",
     "locked": true,
     "schema_version": 2,
     "solution": false
    }
   }
  },
  {
   "cell_type": "markdown",
   "source": [
    "I expect to lean the basics of data cleaning, preprocessing, visualization, mining, and processing. I also expect to learn basic ways to apply all of these skills."
   ],
   "metadata": {}
  },
  {
   "cell_type": "markdown",
   "source": [
    "<div class=\"alert alert-block alert-info\">\r\n",
    "<h2>Submission Instructions</h2> \r\n",
    "<b> File Name:</b> Please name the file as jt919_lab1.ipynb (eg: adg133_lab1.ipynb)<br>\r\n",
    "<b> Submit To: </b> Canvas &rarr; Assignments &rarr; Lab1 <br>\r\n",
    "<b>Warning:</b> Failure to follow directions may result in loss points.<br>\r\n",
    "</div>"
   ],
   "metadata": {}
  },
  {
   "cell_type": "markdown",
   "source": [
    "@2021 A.D. Gunawardena. Credits to Josh Hug and Berkeley Data Science Group for some ideas used in this notebook."
   ],
   "metadata": {
    "nbgrader": {
     "grade": true,
     "grade_id": "q3-answer",
     "locked": false,
     "points": 0,
     "schema_version": 2,
     "solution": true
    }
   }
  }
 ],
 "metadata": {
  "celltoolbar": "Create Assignment",
  "kernelspec": {
   "name": "python3",
   "display_name": "Python 3.9.6 64-bit"
  },
  "language_info": {
   "codemirror_mode": {
    "name": "ipython",
    "version": 3
   },
   "file_extension": ".py",
   "mimetype": "text/x-python",
   "name": "python",
   "nbconvert_exporter": "python",
   "pygments_lexer": "ipython3",
   "version": "3.9.6"
  },
  "toc": {
   "colors": {
    "hover_highlight": "#DAA520",
    "running_highlight": "#FF0000",
    "selected_highlight": "#FFD700"
   },
   "moveMenuLeft": true,
   "nav_menu": {
    "height": "156px",
    "width": "252px"
   },
   "navigate_menu": true,
   "number_sections": true,
   "sideBar": true,
   "threshold": 4,
   "toc_cell": true,
   "toc_section_display": "block",
   "toc_window_display": true
  },
  "interpreter": {
   "hash": "a4b82baf0d50ca6794db3f08d9e9376f7fbfec3b70196d543162e77ae4f1fe0e"
  }
 },
 "nbformat": 4,
 "nbformat_minor": 2
}