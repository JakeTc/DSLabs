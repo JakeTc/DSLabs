{
 "cells": [
  {
   "cell_type": "markdown",
   "metadata": {},
   "source": [
    "## Python and Pandas\n",
    "In this notebook, we will study the working with series and dataframes and indices. We will also discuss the groupBy operation"
   ]
  },
  {
   "cell_type": "markdown",
   "metadata": {},
   "source": [
    "## Size of python objects"
   ]
  },
  {
   "cell_type": "code",
   "execution_count": 3,
   "metadata": {},
   "outputs": [
    {
     "name": "stdout",
     "output_type": "stream",
     "text": [
      "28\n",
      "64\n",
      "9112\n",
      "4096\n"
     ]
    },
    {
     "data": {
      "text/plain": [
       "int"
      ]
     },
     "execution_count": 3,
     "metadata": {},
     "output_type": "execute_result"
    }
   ],
   "source": [
    "import sys\n",
    "sizeof = sys.getsizeof\n",
    "print(sizeof(10))    # size of an int\n",
    "print(sizeof([]))  # size of an empty list\n",
    "my_list = list(range(1000))    # python object\n",
    "print(sizeof(my_list))\n",
    "\n",
    "# Numpy array\n",
    "import numpy as np\n",
    "my_list1 = np.arange(1000, dtype=np.int32)   # numpy array - less memory\n",
    "print(sizeof(my_list1))\n",
    "type(my_list[0])         # what is the type of the object"
   ]
  },
  {
   "cell_type": "markdown",
   "metadata": {},
   "source": [
    "## processing efficiency - Python vs NumPy"
   ]
  },
  {
   "cell_type": "code",
   "execution_count": 4,
   "metadata": {},
   "outputs": [
    {
     "name": "stdout",
     "output_type": "stream",
     "text": [
      "54.6 ms ± 7.01 ms per loop (mean ± std. dev. of 7 runs, 10 loops each)\n",
      "772 µs ± 39.5 µs per loop (mean ± std. dev. of 7 runs, 1000 loops each)\n",
      "772 µs ± 41 µs per loop (mean ± std. dev. of 7 runs, 1000 loops each)\n"
     ]
    }
   ],
   "source": [
    "# how long it takes to sum a python list?\n",
    "my_list = list(range(1000000)) \n",
    "%timeit(sum(my_list))               # shift-tab to see function definition\n",
    "\n",
    "# how long it takes to sum a numpy list of same size\n",
    "import numpy as np\n",
    "my_list1 = np.arange(1000000, dtype=np.int32)   # create a numpy array\n",
    "%timeit my_list1.sum()    #python native sum function\n",
    "%timeit np.sum(my_list1)  #numpy sum function\n"
   ]
  },
  {
   "cell_type": "markdown",
   "metadata": {},
   "source": [
    "## Numpy views"
   ]
  },
  {
   "cell_type": "code",
   "execution_count": 5,
   "metadata": {},
   "outputs": [
    {
     "name": "stdout",
     "output_type": "stream",
     "text": [
      "class:  ndarray\n",
      "shape:  (24,)\n",
      "strides:  (4,)\n",
      "itemsize:  4\n",
      "aligned:  True\n",
      "contiguous:  True\n",
      "fortran:  True\n",
      "data pointer: 0x280f60838b0\n",
      "byteorder:  little\n",
      "byteswap:  False\n",
      "type: int32\n",
      "None\n",
      "__________________________\n",
      "class:  ndarray\n",
      "shape:  (4, 6)\n",
      "strides:  (24, 4)\n",
      "itemsize:  4\n",
      "aligned:  True\n",
      "contiguous:  True\n",
      "fortran:  False\n",
      "data pointer: 0x280f60838b0\n",
      "byteorder:  little\n",
      "byteswap:  False\n",
      "type: int32\n",
      "None\n"
     ]
    },
    {
     "data": {
      "text/plain": [
       "array([[ 0,  1,  2,  3,  4,  5],\n",
       "       [ 6,  7,  8,  9, 10, 11],\n",
       "       [12, 13, 14, 15, 16, 17],\n",
       "       [18, 19, 20, 21, 22, 23]])"
      ]
     },
     "execution_count": 5,
     "metadata": {},
     "output_type": "execute_result"
    }
   ],
   "source": [
    "my_list = np.arange(24, dtype=np.int32)\n",
    "my_list2 = my_list.reshape((4,6))\n",
    "print(np.info(my_list))\n",
    "print('__________________________')\n",
    "print(np.info(my_list2))\n",
    "my_list2"
   ]
  },
  {
   "cell_type": "markdown",
   "metadata": {},
   "source": [
    "## numpy indexing\n"
   ]
  },
  {
   "cell_type": "code",
   "execution_count": 6,
   "metadata": {},
   "outputs": [
    {
     "name": "stdout",
     "output_type": "stream",
     "text": [
      "[[ 0  1  2  3  4  5]\n",
      " [ 6  7  8  9 10 11]\n",
      " [12 13 14 15 16 17]\n",
      " [18 19 20 21 22 23]]\n",
      "[[ 0  1]\n",
      " [ 6  7]\n",
      " [12 13]\n",
      " [18 19]]\n"
     ]
    }
   ],
   "source": [
    "print(my_list2)\n",
    "print(my_list2[:,0:2])  # it only includes [0 2)"
   ]
  },
  {
   "cell_type": "markdown",
   "metadata": {},
   "source": [
    "### Create a Series Object"
   ]
  },
  {
   "cell_type": "code",
   "execution_count": 7,
   "metadata": {},
   "outputs": [
    {
     "name": "stdout",
     "output_type": "stream",
     "text": [
      "0    1\n",
      "1    2\n",
      "2    3\n",
      "3    3\n",
      "dtype: int64\n",
      "1\n",
      "1    2\n",
      "2    3\n",
      "dtype: int64\n"
     ]
    }
   ],
   "source": [
    "import pandas as pd\n",
    "tmp = pd.Series([1,2,3,3])\n",
    "tmp2 = pd.Series([1,\"2\",3,\"3\"])\n",
    "print(tmp)\n",
    "print(tmp.min())\n",
    "print(tmp[1:3])"
   ]
  },
  {
   "cell_type": "markdown",
   "metadata": {},
   "source": [
    "### Create a Data Frame object"
   ]
  },
  {
   "cell_type": "code",
   "execution_count": 8,
   "metadata": {},
   "outputs": [
    {
     "data": {
      "text/html": [
       "<div>\n",
       "<style scoped>\n",
       "    .dataframe tbody tr th:only-of-type {\n",
       "        vertical-align: middle;\n",
       "    }\n",
       "\n",
       "    .dataframe tbody tr th {\n",
       "        vertical-align: top;\n",
       "    }\n",
       "\n",
       "    .dataframe thead th {\n",
       "        text-align: right;\n",
       "    }\n",
       "</style>\n",
       "<table border=\"1\" class=\"dataframe\">\n",
       "  <thead>\n",
       "    <tr style=\"text-align: right;\">\n",
       "      <th></th>\n",
       "      <th>0</th>\n",
       "      <th>1</th>\n",
       "      <th>2</th>\n",
       "      <th>3</th>\n",
       "    </tr>\n",
       "  </thead>\n",
       "  <tbody>\n",
       "    <tr>\n",
       "      <th>0</th>\n",
       "      <td>0.655210</td>\n",
       "      <td>-1.469362</td>\n",
       "      <td>1.033530</td>\n",
       "      <td>-0.883092</td>\n",
       "    </tr>\n",
       "    <tr>\n",
       "      <th>1</th>\n",
       "      <td>0.969826</td>\n",
       "      <td>2.338546</td>\n",
       "      <td>-0.297569</td>\n",
       "      <td>1.170383</td>\n",
       "    </tr>\n",
       "    <tr>\n",
       "      <th>2</th>\n",
       "      <td>-1.070958</td>\n",
       "      <td>-0.304607</td>\n",
       "      <td>-1.215437</td>\n",
       "      <td>1.369147</td>\n",
       "    </tr>\n",
       "  </tbody>\n",
       "</table>\n",
       "</div>"
      ],
      "text/plain": [
       "          0         1         2         3\n",
       "0  0.655210 -1.469362  1.033530 -0.883092\n",
       "1  0.969826  2.338546 -0.297569  1.170383\n",
       "2 -1.070958 -0.304607 -1.215437  1.369147"
      ]
     },
     "execution_count": 8,
     "metadata": {},
     "output_type": "execute_result"
    }
   ],
   "source": [
    "import pandas as pd\n",
    "import numpy as np\n",
    "# see numpy documentation for more info on random - \n",
    "# https://docs.scipy.org/doc/numpy-1.15.1/reference/routines.random.html\n",
    "df = pd.DataFrame(np.random.randn(3,4))\n",
    "df.head()"
   ]
  },
  {
   "cell_type": "markdown",
   "metadata": {},
   "source": [
    "## Key operations on a Data Frame"
   ]
  },
  {
   "cell_type": "code",
   "execution_count": 9,
   "metadata": {},
   "outputs": [
    {
     "name": "stdout",
     "output_type": "stream",
     "text": [
      "0    0.554079\n",
      "1    0.564577\n",
      "2   -0.479476\n",
      "3    1.656438\n",
      "dtype: float64\n",
      "0    3\n",
      "1    3\n",
      "2    3\n",
      "3    3\n",
      "dtype: int64\n",
      "0   -1.070958\n",
      "1   -1.469362\n",
      "2   -1.215437\n",
      "3   -0.883092\n",
      "dtype: float64\n",
      "0    0.969826\n",
      "1    2.338546\n",
      "2    1.033530\n",
      "3    1.369147\n",
      "dtype: float64\n",
      "0   -2.938724\n",
      "1    4.677093\n",
      "2   -0.609214\n",
      "Name: 1, dtype: float64\n",
      "              0         1         2         3\n",
      "count  3.000000  3.000000  3.000000  3.000000\n",
      "mean   0.184693  0.188192 -0.159825  0.552146\n",
      "std    1.098745  1.951200  1.130793  1.246920\n",
      "min   -1.070958 -1.469362 -1.215437 -0.883092\n",
      "25%   -0.207874 -0.886985 -0.756503  0.143645\n",
      "50%    0.655210 -0.304607 -0.297569  1.170383\n",
      "75%    0.812518  1.016970  0.367981  1.269765\n",
      "max    0.969826  2.338546  1.033530  1.369147\n",
      "          0         1         2         3\n",
      "0  0.655210 -1.469362  1.033530 -0.883092\n",
      "1  0.969826  2.338546 -0.297569  1.170383\n"
     ]
    }
   ],
   "source": [
    "print(df.sum(axis=0))\n",
    "print(df.count())\n",
    "print(df.min())\n",
    "print(df.max())\n",
    "print(df[1].apply(lambda x : x*2))\n",
    "print(df.describe())\n",
    "print(df.head(2))"
   ]
  },
  {
   "cell_type": "markdown",
   "metadata": {},
   "source": [
    "### Read a CSV file into a Data Frame"
   ]
  },
  {
   "cell_type": "code",
   "execution_count": 10,
   "metadata": {},
   "outputs": [
    {
     "data": {
      "text/plain": [
       "<matplotlib.collections.PathCollection at 0x2808ad4eb38>"
      ]
     },
     "execution_count": 10,
     "metadata": {},
     "output_type": "execute_result"
    },
    {
     "data": {
      "image/png": "[encoded data removed]",
      "text/plain": [
       "<Figure size 432x288 with 1 Axes>"
      ]
     },
     "metadata": {
      "needs_background": "light"
     },
     "output_type": "display_data"
    }
   ],
   "source": [
    "import pandas as pd\n",
    "import numpy as np\n",
    "import matplotlib as plt\n",
    "%matplotlib inline\n",
    "#df = pd.read_csv('DataSets/205_grades.csv')\n",
    "df = pd.read_csv('DataSets/439_grades.csv')\n",
    "df.head(10)\n",
    "#df1 = df[['Midterm','Finals']]\n",
    "df1 = df[['37','38']]\n",
    "df1\n",
    "df1.drop([0])\n",
    "\n",
    "df1 = df1.drop([0])\n",
    "df1\n",
    "df1 = df1.dropna()\n",
    "#x = df1['midterm']\n",
    "#y = df1['Finals']\n",
    "\n",
    "x = df1['37']\n",
    "y = df1['38']\n",
    "\n",
    "y    # note the type of elements in y. they are not float (need to convert)\n",
    "x    # note the type of elements in x. they are float\n",
    "#y = y.apply(pd.to_numeric) # convert y to float\n",
    "plt.pyplot.scatter(x,y)   # note that this shows if you scroe low in midterm implies low in finals\n",
    "\n",
    "# QUESTION : HOW would you interpret the plot?"
   ]
  },
  {
   "cell_type": "markdown",
   "metadata": {},
   "source": [
    "## Reading Large Files into a Data Frame"
   ]
  },
  {
   "cell_type": "code",
   "execution_count": 11,
   "metadata": {},
   "outputs": [
    {
     "name": "stdout",
     "output_type": "stream",
     "text": [
      "3394982\n",
      "COUNTY,HD_CODE,HD_NAME,CD_CODE,CD_NAME,PARTY,SYSDATE,COUNT(V.ID)\n",
      "\n",
      "DOUGLAS,SR01,House District 01,4th Cong,US Congressional District 4,Independent Party,12/07/2018,529\n",
      "\n",
      "CURRY,SR01,House District 01,4th Cong,US Congressional District 4,Libertarian,12/07/2018,148\n",
      "\n",
      "CURRY,SR01,House District 01,4th Cong,US Congressional District 4,Republican,12/07/2018,5695\n",
      "\n",
      "COOS,SR01,House District 01,4th Cong,US Congressional District 4,Constitution,12/07/2018,46\n",
      "\n",
      "JOSEPHINE,SR01,House District 01,4th Cong,US Congressional District 4,Independent Party,12/07/2018,143\n",
      "\n",
      "COOS,SR01,House District 01,4th Cong,US Congressional District 4,Progressive,12/07/2018,5\n",
      "\n",
      "DOUGLAS,SR01,House District 01,4th Cong,US Congressional District 4,Other,12/07/2018,67\n",
      "\n",
      "DOUGLAS,SR01,House District 01,4th Cong,US Congressional District 4,Constitution,12/07/2018,22\n",
      "\n",
      "JOSEPHINE,SR01,House District 01,4th Cong,US Congressional District 4,Working Families Party of Oregon,12/07/2018,10\n",
      "\n"
     ]
    }
   ],
   "source": [
    "# READING LARGE FILES IN PYTHON\n",
    "\n",
    "# check the size of the file\n",
    "import os\n",
    "file_size = os.path.getsize(\"DataSets/Voter_Registration_Data.csv\")\n",
    "print (file_size)    # should be 3.4 MB\n",
    "\n",
    "input = open('DataSets/Voter_Registration_Data.csv','r')\n",
    "\n",
    "# read the first 10 lines\n",
    "for lines in range(10):\n",
    "    line = input.readline()\n",
    "    print(line)\n",
    "    \n",
    "\n",
    "# read the large file 10 lines at a time\n",
    "#input = open('DataSets/Voter_Registration_Data.csv','r')\n",
    " \n",
    "#while(1):\n",
    "#    for lines in range(10):\n",
    "#        print (input.readline())\n",
    "#    print (\"Received 10 lines\")"
   ]
  },
  {
   "cell_type": "code",
   "execution_count": 18,
   "metadata": {},
   "outputs": [
    {
     "data": {
      "text/html": [
       "<div>\n",
       "<style scoped>\n",
       "    .dataframe tbody tr th:only-of-type {\n",
       "        vertical-align: middle;\n",
       "    }\n",
       "\n",
       "    .dataframe tbody tr th {\n",
       "        vertical-align: top;\n",
       "    }\n",
       "\n",
       "    .dataframe thead th {\n",
       "        text-align: right;\n",
       "    }\n",
       "</style>\n",
       "<table border=\"1\" class=\"dataframe\">\n",
       "  <thead>\n",
       "    <tr style=\"text-align: right;\">\n",
       "      <th></th>\n",
       "      <th>COUNT(V.ID)</th>\n",
       "    </tr>\n",
       "  </thead>\n",
       "  <tbody>\n",
       "    <tr>\n",
       "      <th>count</th>\n",
       "      <td>34848.000000</td>\n",
       "    </tr>\n",
       "    <tr>\n",
       "      <th>mean</th>\n",
       "      <td>2052.364182</td>\n",
       "    </tr>\n",
       "    <tr>\n",
       "      <th>std</th>\n",
       "      <td>4147.523510</td>\n",
       "    </tr>\n",
       "    <tr>\n",
       "      <th>min</th>\n",
       "      <td>0.000000</td>\n",
       "    </tr>\n",
       "    <tr>\n",
       "      <th>25%</th>\n",
       "      <td>27.000000</td>\n",
       "    </tr>\n",
       "    <tr>\n",
       "      <th>50%</th>\n",
       "      <td>139.000000</td>\n",
       "    </tr>\n",
       "    <tr>\n",
       "      <th>75%</th>\n",
       "      <td>1678.500000</td>\n",
       "    </tr>\n",
       "    <tr>\n",
       "      <th>max</th>\n",
       "      <td>34982.000000</td>\n",
       "    </tr>\n",
       "  </tbody>\n",
       "</table>\n",
       "</div>"
      ],
      "text/plain": [
       "        COUNT(V.ID)\n",
       "count  34848.000000\n",
       "mean    2052.364182\n",
       "std     4147.523510\n",
       "min        0.000000\n",
       "25%       27.000000\n",
       "50%      139.000000\n",
       "75%     1678.500000\n",
       "max    34982.000000"
      ]
     },
     "execution_count": 18,
     "metadata": {},
     "output_type": "execute_result"
    }
   ],
   "source": [
    "df = pd.read_csv('DataSets/Voter_Registration_Data.csv')\n",
    "df.head()\n",
    "df.size\n",
    "df.describe()"
   ]
  },
  {
   "cell_type": "markdown",
   "metadata": {},
   "source": [
    "### Plot the Data with Matplotlib"
   ]
  },
  {
   "cell_type": "code",
   "execution_count": null,
   "metadata": {},
   "outputs": [],
   "source": [
    "df['midterm'].plot()"
   ]
  },
  {
   "cell_type": "code",
   "execution_count": null,
   "metadata": {},
   "outputs": [],
   "source": [
    "dfs = df['midterm'].sort_values()         # this also sorts the index\n",
    "dfs.reset_index(drop=True, inplace=True)  # reset the index\n",
    "dfs.plot()"
   ]
  },
  {
   "cell_type": "markdown",
   "metadata": {},
   "source": [
    "### Appending Data Frames"
   ]
  },
  {
   "cell_type": "code",
   "execution_count": 19,
   "metadata": {},
   "outputs": [
    {
     "data": {
      "text/html": [
       "<div>\n",
       "<style scoped>\n",
       "    .dataframe tbody tr th:only-of-type {\n",
       "        vertical-align: middle;\n",
       "    }\n",
       "\n",
       "    .dataframe tbody tr th {\n",
       "        vertical-align: top;\n",
       "    }\n",
       "\n",
       "    .dataframe thead th {\n",
       "        text-align: right;\n",
       "    }\n",
       "</style>\n",
       "<table border=\"1\" class=\"dataframe\">\n",
       "  <thead>\n",
       "    <tr style=\"text-align: right;\">\n",
       "      <th></th>\n",
       "      <th>0</th>\n",
       "      <th>1</th>\n",
       "      <th>2</th>\n",
       "      <th>3</th>\n",
       "    </tr>\n",
       "  </thead>\n",
       "  <tbody>\n",
       "    <tr>\n",
       "      <th>0</th>\n",
       "      <td>-1.335286</td>\n",
       "      <td>-0.434846</td>\n",
       "      <td>0.098028</td>\n",
       "      <td>0.088884</td>\n",
       "    </tr>\n",
       "    <tr>\n",
       "      <th>1</th>\n",
       "      <td>-1.304256</td>\n",
       "      <td>0.763762</td>\n",
       "      <td>0.105769</td>\n",
       "      <td>-1.101417</td>\n",
       "    </tr>\n",
       "    <tr>\n",
       "      <th>2</th>\n",
       "      <td>1.108543</td>\n",
       "      <td>-1.663809</td>\n",
       "      <td>1.516044</td>\n",
       "      <td>-1.926018</td>\n",
       "    </tr>\n",
       "    <tr>\n",
       "      <th>3</th>\n",
       "      <td>-0.101184</td>\n",
       "      <td>0.913639</td>\n",
       "      <td>-1.801458</td>\n",
       "      <td>0.736300</td>\n",
       "    </tr>\n",
       "    <tr>\n",
       "      <th>4</th>\n",
       "      <td>-0.481246</td>\n",
       "      <td>-0.522829</td>\n",
       "      <td>-0.127177</td>\n",
       "      <td>0.270185</td>\n",
       "    </tr>\n",
       "    <tr>\n",
       "      <th>0</th>\n",
       "      <td>0.196674</td>\n",
       "      <td>-1.049589</td>\n",
       "      <td>-0.289888</td>\n",
       "      <td>-0.337219</td>\n",
       "    </tr>\n",
       "    <tr>\n",
       "      <th>1</th>\n",
       "      <td>1.012649</td>\n",
       "      <td>-0.942926</td>\n",
       "      <td>-0.574270</td>\n",
       "      <td>-0.889460</td>\n",
       "    </tr>\n",
       "    <tr>\n",
       "      <th>2</th>\n",
       "      <td>-1.118977</td>\n",
       "      <td>1.510706</td>\n",
       "      <td>-1.098021</td>\n",
       "      <td>-0.288710</td>\n",
       "    </tr>\n",
       "    <tr>\n",
       "      <th>3</th>\n",
       "      <td>-0.471432</td>\n",
       "      <td>-0.485001</td>\n",
       "      <td>0.377157</td>\n",
       "      <td>-0.599846</td>\n",
       "    </tr>\n",
       "    <tr>\n",
       "      <th>4</th>\n",
       "      <td>0.372858</td>\n",
       "      <td>0.771452</td>\n",
       "      <td>-0.701034</td>\n",
       "      <td>-0.179683</td>\n",
       "    </tr>\n",
       "  </tbody>\n",
       "</table>\n",
       "</div>"
      ],
      "text/plain": [
       "          0         1         2         3\n",
       "0 -1.335286 -0.434846  0.098028  0.088884\n",
       "1 -1.304256  0.763762  0.105769 -1.101417\n",
       "2  1.108543 -1.663809  1.516044 -1.926018\n",
       "3 -0.101184  0.913639 -1.801458  0.736300\n",
       "4 -0.481246 -0.522829 -0.127177  0.270185\n",
       "0  0.196674 -1.049589 -0.289888 -0.337219\n",
       "1  1.012649 -0.942926 -0.574270 -0.889460\n",
       "2 -1.118977  1.510706 -1.098021 -0.288710\n",
       "3 -0.471432 -0.485001  0.377157 -0.599846\n",
       "4  0.372858  0.771452 -0.701034 -0.179683"
      ]
     },
     "execution_count": 19,
     "metadata": {},
     "output_type": "execute_result"
    }
   ],
   "source": [
    "import pandas as pd\n",
    "import numpy as np\n",
    "first = pd.DataFrame(np.random.randn(5,4))\n",
    "second = pd.DataFrame(np.random.randn(5,4))\n",
    "# append data frames to create a longer one 10x4\n",
    "pd.concat([first, second])"
   ]
  },
  {
   "cell_type": "markdown",
   "metadata": {},
   "source": [
    "### Merging Data Frames"
   ]
  },
  {
   "cell_type": "code",
   "execution_count": 21,
   "metadata": {},
   "outputs": [
    {
     "data": {
      "text/plain": [
       "pandas.core.frame.DataFrame"
      ]
     },
     "execution_count": 21,
     "metadata": {},
     "output_type": "execute_result"
    }
   ],
   "source": [
    "# merge two data frames by a key\n",
    "left = pd.DataFrame({'netID' : ['adg133', 'abs134', 'def234'], 'midterm': [67, 89, 90]})\n",
    "right = pd.DataFrame({'netID' : ['adg133', 'abs134', 'def234'], 'final' : [87, 69, 50]})\n",
    "type(pd.merge(left,right, on='netID'))\n"
   ]
  },
  {
   "cell_type": "markdown",
   "metadata": {},
   "source": [
    "### Data Wrangling\n",
    "finding missing data and replacing them with zeros"
   ]
  },
  {
   "cell_type": "code",
   "execution_count": 23,
   "metadata": {},
   "outputs": [],
   "source": [
    "import pandas as pd\n",
    "df = pd.read_csv('DataSets/205_grades.csv')\n",
    "# count the missing data in each column\n",
    "df.apply(lambda x: sum(x.isnull()), axis=0)\n",
    "\n",
    "# replace all missing pset1 scores with zeros\n",
    "df['pset1'].fillna(0, inplace=True)"
   ]
  },
  {
   "cell_type": "markdown",
   "metadata": {},
   "source": [
    "### In-class Workshop"
   ]
  },
  {
   "cell_type": "code",
   "execution_count": null,
   "metadata": {},
   "outputs": [],
   "source": [
    "# Create a data frame (in two ways) with column names ‘fruit’ and ‘color’ and add rows \n",
    "# for 5 of your favorite fruits (and colors)\n",
    "\n",
    "# FIRST METHOD OF CREATING A DATA FRAME\n",
    "import pandas as pd\n",
    "fruit_info = pd.DataFrame(\n",
    "    data={'fruit': ['apple', 'orange', 'banana', 'raspberry'],\n",
    "          'color': ['red', 'orange', 'yellow', 'pink']\n",
    "          })\n",
    "fruit_info\n",
    "\n",
    "\n",
    "# SECOND METHOD OF CREATING A DATA FRAME\n",
    "fruit_info2 = pd.DataFrame(\n",
    "    [(\"red\", \"apple\"), (\"orange\", \"orange\"), (\"yellow\", \"banana\"),\n",
    "     (\"pink\", \"raspberry\")], \n",
    "    columns = [\"color\", \"fruit\"])\n",
    "fruit_info2"
   ]
  },
  {
   "cell_type": "code",
   "execution_count": null,
   "metadata": {},
   "outputs": [],
   "source": [
    "# ADD A PRICE/lb TO EACH FRUIT\n",
    "fruit_info[\"price\"] = [2.30, 1.00, 4.50, 3.75]\n",
    "fruit_info"
   ]
  },
  {
   "cell_type": "code",
   "execution_count": null,
   "metadata": {},
   "outputs": [],
   "source": [
    "# Assert that there are no NULL values in the table\n",
    "fruit_info.apply(lambda x: sum(x.isnull()), axis=0)"
   ]
  },
  {
   "cell_type": "markdown",
   "metadata": {},
   "source": [
    "### Extracting Rows and Columns from a Data Frame"
   ]
  },
  {
   "cell_type": "code",
   "execution_count": 7,
   "metadata": {},
   "outputs": [
    {
     "name": "stdout",
     "output_type": "stream",
     "text": [
      "0    55.129771\n",
      "1    28.000000\n",
      "2          NaN\n",
      "3    12.000000\n",
      "4    45.500000\n",
      "Name: midterm, dtype: float64\n",
      "     midterm       Finals\n",
      "0  55.129771     pts(20%)\n",
      "1  28.000000            0\n",
      "2        NaN            0\n",
      "3  12.000000            0\n",
      "4  45.500000  17.71428571\n",
      "5  58.000000  17.28571429\n"
     ]
    },
    {
     "data": {
      "text/plain": [
       "pandas.core.frame.DataFrame"
      ]
     },
     "execution_count": 7,
     "metadata": {},
     "output_type": "execute_result"
    }
   ],
   "source": [
    "import pandas as pd\n",
    "df = pd.read_csv('DataSets/205_grades.csv')\n",
    "df1 = df['midterm']\n",
    "print (df1.head(5))\n",
    "df2 = df[['midterm', 'Finals']]\n",
    "print(df2.head(6))\n",
    "type(df2)"
   ]
  },
  {
   "cell_type": "code",
   "execution_count": 8,
   "metadata": {},
   "outputs": [
    {
     "data": {
      "text/plain": [
       "2     NaN\n",
       "3    12.0\n",
       "4    45.5\n",
       "5    58.0\n",
       "6    68.0\n",
       "7    64.5\n",
       "8    74.0\n",
       "9    52.5\n",
       "Name: midterm, dtype: float64"
      ]
     },
     "execution_count": 8,
     "metadata": {},
     "output_type": "execute_result"
    }
   ],
   "source": [
    "# indexing by row slices allow us to pick a rows with specific indices\n",
    "df[2:3]\n",
    "# or find a midterm for students from 2 to 9\n",
    "df[2:10]['midterm']"
   ]
  },
  {
   "cell_type": "code",
   "execution_count": 9,
   "metadata": {},
   "outputs": [
    {
     "ename": "SyntaxError",
     "evalue": "invalid syntax (<ipython-input-9-2b465cb4f713>, line 4)",
     "output_type": "error",
     "traceback": [
      "\u001b[1;36m  File \u001b[1;32m\"<ipython-input-9-2b465cb4f713>\"\u001b[1;36m, line \u001b[1;32m4\u001b[0m\n\u001b[1;33m    weird[1- ]\u001b[0m\n\u001b[1;37m             ^\u001b[0m\n\u001b[1;31mSyntaxError\u001b[0m\u001b[1;31m:\u001b[0m invalid syntax\n"
     ]
    }
   ],
   "source": [
    "## WORKSHOP PROBLEM\n",
    "import pandas as pd\n",
    "weird = pd.DataFrame({1:[\"hotdog\", \"topdog\"], \"1\": ['food', 'animal']})\n",
    "weird[1- ]"
   ]
  },
  {
   "cell_type": "markdown",
   "metadata": {},
   "source": [
    "### Boolean Arrays\n"
   ]
  },
  {
   "cell_type": "code",
   "execution_count": 10,
   "metadata": {},
   "outputs": [
    {
     "data": {
      "text/html": [
       "<div>\n",
       "<style scoped>\n",
       "    .dataframe tbody tr th:only-of-type {\n",
       "        vertical-align: middle;\n",
       "    }\n",
       "\n",
       "    .dataframe tbody tr th {\n",
       "        vertical-align: top;\n",
       "    }\n",
       "\n",
       "    .dataframe thead th {\n",
       "        text-align: right;\n",
       "    }\n",
       "</style>\n",
       "<table border=\"1\" class=\"dataframe\">\n",
       "  <thead>\n",
       "    <tr style=\"text-align: right;\">\n",
       "      <th></th>\n",
       "      <th>Recitation</th>\n",
       "      <th>attendance</th>\n",
       "      <th>performance</th>\n",
       "      <th>mid</th>\n",
       "      <th>notes</th>\n",
       "      <th>wk3</th>\n",
       "      <th>wk4</th>\n",
       "      <th>wk5</th>\n",
       "      <th>wk6</th>\n",
       "      <th>wk7</th>\n",
       "      <th>...</th>\n",
       "      <th>Finals</th>\n",
       "      <th>q1.2</th>\n",
       "      <th>Unnamed: 42</th>\n",
       "      <th>rank</th>\n",
       "      <th>Unnamed: 44</th>\n",
       "      <th>Unnamed: 45</th>\n",
       "      <th>Unnamed: 46</th>\n",
       "      <th>Unnamed: 47</th>\n",
       "      <th>course</th>\n",
       "      <th>Final</th>\n",
       "    </tr>\n",
       "  </thead>\n",
       "  <tbody>\n",
       "    <tr>\n",
       "      <th>24</th>\n",
       "      <td>7.0</td>\n",
       "      <td>NaN</td>\n",
       "      <td>NaN</td>\n",
       "      <td>13</td>\n",
       "      <td>NaN</td>\n",
       "      <td>7.0</td>\n",
       "      <td>7.0</td>\n",
       "      <td>7.0</td>\n",
       "      <td>7.0</td>\n",
       "      <td>7.0</td>\n",
       "      <td>...</td>\n",
       "      <td>17.14285714</td>\n",
       "      <td>17</td>\n",
       "      <td>18</td>\n",
       "      <td>20</td>\n",
       "      <td>10</td>\n",
       "      <td>8</td>\n",
       "      <td>9</td>\n",
       "      <td>7</td>\n",
       "      <td>A</td>\n",
       "      <td>13</td>\n",
       "    </tr>\n",
       "    <tr>\n",
       "      <th>47</th>\n",
       "      <td>7.0</td>\n",
       "      <td>NaN</td>\n",
       "      <td>NaN</td>\n",
       "      <td>1</td>\n",
       "      <td>NaN</td>\n",
       "      <td>7.0</td>\n",
       "      <td>7.0</td>\n",
       "      <td>7.0</td>\n",
       "      <td>NaN</td>\n",
       "      <td>7.0</td>\n",
       "      <td>...</td>\n",
       "      <td>21.71428571</td>\n",
       "      <td>18</td>\n",
       "      <td>86</td>\n",
       "      <td>86</td>\n",
       "      <td>74</td>\n",
       "      <td>73</td>\n",
       "      <td>4</td>\n",
       "      <td>4</td>\n",
       "      <td>A</td>\n",
       "      <td>1</td>\n",
       "    </tr>\n",
       "    <tr>\n",
       "      <th>50</th>\n",
       "      <td>7.0</td>\n",
       "      <td>NaN</td>\n",
       "      <td>NaN</td>\n",
       "      <td>25</td>\n",
       "      <td>NaN</td>\n",
       "      <td>7.0</td>\n",
       "      <td>7.0</td>\n",
       "      <td>7.0</td>\n",
       "      <td>0.0</td>\n",
       "      <td>NaN</td>\n",
       "      <td>...</td>\n",
       "      <td>15.14285714</td>\n",
       "      <td>10</td>\n",
       "      <td>43</td>\n",
       "      <td>46</td>\n",
       "      <td>22</td>\n",
       "      <td>20</td>\n",
       "      <td>20</td>\n",
       "      <td>29</td>\n",
       "      <td>A</td>\n",
       "      <td>25</td>\n",
       "    </tr>\n",
       "    <tr>\n",
       "      <th>88</th>\n",
       "      <td>8.0</td>\n",
       "      <td>NaN</td>\n",
       "      <td>NaN</td>\n",
       "      <td>4</td>\n",
       "      <td>NaN</td>\n",
       "      <td>8.0</td>\n",
       "      <td>8.0</td>\n",
       "      <td>8.0</td>\n",
       "      <td>8.0</td>\n",
       "      <td>8.0</td>\n",
       "      <td>...</td>\n",
       "      <td>18.14285714</td>\n",
       "      <td>16</td>\n",
       "      <td>6</td>\n",
       "      <td>6</td>\n",
       "      <td>4</td>\n",
       "      <td>2</td>\n",
       "      <td>6</td>\n",
       "      <td>6</td>\n",
       "      <td>A</td>\n",
       "      <td>4</td>\n",
       "    </tr>\n",
       "    <tr>\n",
       "      <th>113</th>\n",
       "      <td>9.0</td>\n",
       "      <td>NaN</td>\n",
       "      <td>NaN</td>\n",
       "      <td>6</td>\n",
       "      <td>NaN</td>\n",
       "      <td>9.0</td>\n",
       "      <td>9.0</td>\n",
       "      <td>9.0</td>\n",
       "      <td>9.0</td>\n",
       "      <td>9.0</td>\n",
       "      <td>...</td>\n",
       "      <td>17.57142857</td>\n",
       "      <td>16</td>\n",
       "      <td>8</td>\n",
       "      <td>5</td>\n",
       "      <td>2</td>\n",
       "      <td>3</td>\n",
       "      <td>3</td>\n",
       "      <td>3</td>\n",
       "      <td>A</td>\n",
       "      <td>6</td>\n",
       "    </tr>\n",
       "    <tr>\n",
       "      <th>116</th>\n",
       "      <td>9.0</td>\n",
       "      <td>NaN</td>\n",
       "      <td>NaN</td>\n",
       "      <td>3</td>\n",
       "      <td>NaN</td>\n",
       "      <td>9.0</td>\n",
       "      <td>9.0</td>\n",
       "      <td>9.0</td>\n",
       "      <td>9.0</td>\n",
       "      <td>9.0</td>\n",
       "      <td>...</td>\n",
       "      <td>18.14285714</td>\n",
       "      <td>18</td>\n",
       "      <td>9</td>\n",
       "      <td>8</td>\n",
       "      <td>5</td>\n",
       "      <td>4</td>\n",
       "      <td>1</td>\n",
       "      <td>1</td>\n",
       "      <td>A</td>\n",
       "      <td>3</td>\n",
       "    </tr>\n",
       "    <tr>\n",
       "      <th>128</th>\n",
       "      <td>9.0</td>\n",
       "      <td>NaN</td>\n",
       "      <td>NaN</td>\n",
       "      <td>11</td>\n",
       "      <td>NaN</td>\n",
       "      <td>9.0</td>\n",
       "      <td>NaN</td>\n",
       "      <td>9.0</td>\n",
       "      <td>9.0</td>\n",
       "      <td>9.0</td>\n",
       "      <td>...</td>\n",
       "      <td>18.85714286</td>\n",
       "      <td>18</td>\n",
       "      <td>15</td>\n",
       "      <td>15</td>\n",
       "      <td>11</td>\n",
       "      <td>11</td>\n",
       "      <td>10</td>\n",
       "      <td>16</td>\n",
       "      <td>A</td>\n",
       "      <td>11</td>\n",
       "    </tr>\n",
       "    <tr>\n",
       "      <th>137</th>\n",
       "      <td>9.0</td>\n",
       "      <td>NaN</td>\n",
       "      <td>NaN</td>\n",
       "      <td>16</td>\n",
       "      <td>NaN</td>\n",
       "      <td>9.0</td>\n",
       "      <td>9.0</td>\n",
       "      <td>9.0</td>\n",
       "      <td>9.0</td>\n",
       "      <td>9.0</td>\n",
       "      <td>...</td>\n",
       "      <td>13</td>\n",
       "      <td>12</td>\n",
       "      <td>7</td>\n",
       "      <td>9</td>\n",
       "      <td>6</td>\n",
       "      <td>6</td>\n",
       "      <td>5</td>\n",
       "      <td>10</td>\n",
       "      <td>A</td>\n",
       "      <td>16</td>\n",
       "    </tr>\n",
       "  </tbody>\n",
       "</table>\n",
       "<p>8 rows × 50 columns</p>\n",
       "</div>"
      ],
      "text/plain": [
       "     Recitation attendance performance mid notes  wk3  wk4  wk5  wk6  wk7  \\\n",
       "24          7.0        NaN         NaN  13   NaN  7.0  7.0  7.0  7.0  7.0   \n",
       "47          7.0        NaN         NaN   1   NaN  7.0  7.0  7.0  NaN  7.0   \n",
       "50          7.0        NaN         NaN  25   NaN  7.0  7.0  7.0  0.0  NaN   \n",
       "88          8.0        NaN         NaN   4   NaN  8.0  8.0  8.0  8.0  8.0   \n",
       "113         9.0        NaN         NaN   6   NaN  9.0  9.0  9.0  9.0  9.0   \n",
       "116         9.0        NaN         NaN   3   NaN  9.0  9.0  9.0  9.0  9.0   \n",
       "128         9.0        NaN         NaN  11   NaN  9.0  NaN  9.0  9.0  9.0   \n",
       "137         9.0        NaN         NaN  16   NaN  9.0  9.0  9.0  9.0  9.0   \n",
       "\n",
       "     ...         Finals  q1.2  Unnamed: 42  rank  Unnamed: 44  Unnamed: 45  \\\n",
       "24   ...    17.14285714    17           18    20           10            8   \n",
       "47   ...    21.71428571    18           86    86           74           73   \n",
       "50   ...    15.14285714    10           43    46           22           20   \n",
       "88   ...    18.14285714    16            6     6            4            2   \n",
       "113  ...    17.57142857    16            8     5            2            3   \n",
       "116  ...    18.14285714    18            9     8            5            4   \n",
       "128  ...    18.85714286    18           15    15           11           11   \n",
       "137  ...             13    12            7     9            6            6   \n",
       "\n",
       "     Unnamed: 46  Unnamed: 47  course  Final  \n",
       "24             9            7       A     13  \n",
       "47             4            4       A      1  \n",
       "50            20           29       A     25  \n",
       "88             6            6       A      4  \n",
       "113            3            3       A      6  \n",
       "116            1            1       A      3  \n",
       "128           10           16       A     11  \n",
       "137            5           10       A     16  \n",
       "\n",
       "[8 rows x 50 columns]"
      ]
     },
     "execution_count": 10,
     "metadata": {},
     "output_type": "execute_result"
    }
   ],
   "source": [
    "# Set TRUE if student midterm score was greater than 50%\n",
    "df[df['midterm'] > 50]\n",
    "# use multiple criterias\n",
    "df[(df['midterm'] > 80) & (df['course'] == 'A')]"
   ]
  },
  {
   "cell_type": "markdown",
   "metadata": {},
   "source": [
    "### Pandas loc and iloc"
   ]
  },
  {
   "cell_type": "code",
   "execution_count": 11,
   "metadata": {},
   "outputs": [],
   "source": [
    "import pandas as pd\n",
    "df = pd.read_csv('DataSets/205_grades.csv')"
   ]
  },
  {
   "cell_type": "code",
   "execution_count": 12,
   "metadata": {},
   "outputs": [
    {
     "data": {
      "text/html": [
       "<div>\n",
       "<style scoped>\n",
       "    .dataframe tbody tr th:only-of-type {\n",
       "        vertical-align: middle;\n",
       "    }\n",
       "\n",
       "    .dataframe tbody tr th {\n",
       "        vertical-align: top;\n",
       "    }\n",
       "\n",
       "    .dataframe thead th {\n",
       "        text-align: right;\n",
       "    }\n",
       "</style>\n",
       "<table border=\"1\" class=\"dataframe\">\n",
       "  <thead>\n",
       "    <tr style=\"text-align: right;\">\n",
       "      <th></th>\n",
       "      <th>midterm</th>\n",
       "    </tr>\n",
       "  </thead>\n",
       "  <tbody>\n",
       "    <tr>\n",
       "      <th>0</th>\n",
       "      <td>55.129771</td>\n",
       "    </tr>\n",
       "    <tr>\n",
       "      <th>1</th>\n",
       "      <td>28.000000</td>\n",
       "    </tr>\n",
       "    <tr>\n",
       "      <th>3</th>\n",
       "      <td>12.000000</td>\n",
       "    </tr>\n",
       "  </tbody>\n",
       "</table>\n",
       "</div>"
      ],
      "text/plain": [
       "     midterm\n",
       "0  55.129771\n",
       "1  28.000000\n",
       "3  12.000000"
      ]
     },
     "execution_count": 12,
     "metadata": {},
     "output_type": "execute_result"
    }
   ],
   "source": [
    "df.loc[[0,1,3],['midterm']]   # list of values"
   ]
  },
  {
   "cell_type": "code",
   "execution_count": 24,
   "metadata": {},
   "outputs": [
    {
     "data": {
      "text/html": [
       "<div>\n",
       "<style scoped>\n",
       "    .dataframe tbody tr th:only-of-type {\n",
       "        vertical-align: middle;\n",
       "    }\n",
       "\n",
       "    .dataframe tbody tr th {\n",
       "        vertical-align: top;\n",
       "    }\n",
       "\n",
       "    .dataframe thead th {\n",
       "        text-align: right;\n",
       "    }\n",
       "</style>\n",
       "<table border=\"1\" class=\"dataframe\">\n",
       "  <thead>\n",
       "    <tr style=\"text-align: right;\">\n",
       "      <th></th>\n",
       "      <th>midterm</th>\n",
       "    </tr>\n",
       "  </thead>\n",
       "  <tbody>\n",
       "    <tr>\n",
       "      <th>0</th>\n",
       "      <td>55.129771</td>\n",
       "    </tr>\n",
       "    <tr>\n",
       "      <th>1</th>\n",
       "      <td>28.000000</td>\n",
       "    </tr>\n",
       "    <tr>\n",
       "      <th>2</th>\n",
       "      <td>NaN</td>\n",
       "    </tr>\n",
       "    <tr>\n",
       "      <th>3</th>\n",
       "      <td>12.000000</td>\n",
       "    </tr>\n",
       "  </tbody>\n",
       "</table>\n",
       "</div>"
      ],
      "text/plain": [
       "     midterm\n",
       "0  55.129771\n",
       "1  28.000000\n",
       "2        NaN\n",
       "3  12.000000"
      ]
     },
     "execution_count": 24,
     "metadata": {},
     "output_type": "execute_result"
    }
   ],
   "source": [
    "df2 = df.loc[0:3,['midterm']]   # range of value\n",
    "df2"
   ]
  },
  {
   "cell_type": "code",
   "execution_count": 14,
   "metadata": {},
   "outputs": [
    {
     "data": {
      "text/plain": [
       "0    55.129771\n",
       "1    28.000000\n",
       "2          NaN\n",
       "3    12.000000\n",
       "Name: midterm, dtype: float64"
      ]
     },
     "execution_count": 14,
     "metadata": {},
     "output_type": "execute_result"
    }
   ],
   "source": [
    "# provide a single value for the second argument, we get a series\n",
    "df.loc[0:3,'midterm']"
   ]
  },
  {
   "cell_type": "code",
   "execution_count": null,
   "metadata": {},
   "outputs": [],
   "source": [
    "df.head()\n",
    "df.size\n",
    "df.shape\n",
    "df.describe"
   ]
  },
  {
   "cell_type": "code",
   "execution_count": null,
   "metadata": {},
   "outputs": [],
   "source": [
    "df.index"
   ]
  },
  {
   "cell_type": "code",
   "execution_count": null,
   "metadata": {},
   "outputs": [],
   "source": [
    "df.columns"
   ]
  },
  {
   "cell_type": "markdown",
   "metadata": {},
   "source": [
    "### GroupBy demos"
   ]
  },
  {
   "cell_type": "code",
   "execution_count": 25,
   "metadata": {},
   "outputs": [
    {
     "data": {
      "text/html": [
       "<div>\n",
       "<style scoped>\n",
       "    .dataframe tbody tr th:only-of-type {\n",
       "        vertical-align: middle;\n",
       "    }\n",
       "\n",
       "    .dataframe tbody tr th {\n",
       "        vertical-align: top;\n",
       "    }\n",
       "\n",
       "    .dataframe thead th {\n",
       "        text-align: right;\n",
       "    }\n",
       "</style>\n",
       "<table border=\"1\" class=\"dataframe\">\n",
       "  <thead>\n",
       "    <tr style=\"text-align: right;\">\n",
       "      <th></th>\n",
       "      <th>Name</th>\n",
       "      <th>Color</th>\n",
       "      <th>Number</th>\n",
       "      <th>Sex</th>\n",
       "    </tr>\n",
       "  </thead>\n",
       "  <tbody>\n",
       "    <tr>\n",
       "      <th>0</th>\n",
       "      <td>Joey</td>\n",
       "      <td>blue</td>\n",
       "      <td>42</td>\n",
       "      <td>M</td>\n",
       "    </tr>\n",
       "    <tr>\n",
       "      <th>1</th>\n",
       "      <td>Weiwei</td>\n",
       "      <td>blue</td>\n",
       "      <td>50</td>\n",
       "      <td>F</td>\n",
       "    </tr>\n",
       "    <tr>\n",
       "      <th>2</th>\n",
       "      <td>Joey</td>\n",
       "      <td>green</td>\n",
       "      <td>8</td>\n",
       "      <td>M</td>\n",
       "    </tr>\n",
       "    <tr>\n",
       "      <th>3</th>\n",
       "      <td>Karina</td>\n",
       "      <td>green</td>\n",
       "      <td>7</td>\n",
       "      <td>F</td>\n",
       "    </tr>\n",
       "    <tr>\n",
       "      <th>4</th>\n",
       "      <td>Fernando</td>\n",
       "      <td>pink</td>\n",
       "      <td>-9</td>\n",
       "      <td>M</td>\n",
       "    </tr>\n",
       "    <tr>\n",
       "      <th>5</th>\n",
       "      <td>Nhi</td>\n",
       "      <td>blue</td>\n",
       "      <td>3</td>\n",
       "      <td>F</td>\n",
       "    </tr>\n",
       "    <tr>\n",
       "      <th>6</th>\n",
       "      <td>Sam</td>\n",
       "      <td>pink</td>\n",
       "      <td>-42</td>\n",
       "      <td>M</td>\n",
       "    </tr>\n",
       "  </tbody>\n",
       "</table>\n",
       "</div>"
      ],
      "text/plain": [
       "       Name  Color  Number Sex\n",
       "0      Joey   blue      42   M\n",
       "1    Weiwei   blue      50   F\n",
       "2      Joey  green       8   M\n",
       "3    Karina  green       7   F\n",
       "4  Fernando   pink      -9   M\n",
       "5       Nhi   blue       3   F\n",
       "6       Sam   pink     -42   M"
      ]
     },
     "execution_count": 25,
     "metadata": {},
     "output_type": "execute_result"
    }
   ],
   "source": [
    "import pandas as pd\n",
    "\n",
    "df = pd.DataFrame(\n",
    "    [[\"Joey\",      \"blue\",    42,  \"M\"],\n",
    "     [\"Weiwei\",    \"blue\",    50,  \"F\"],\n",
    "     [\"Joey\",      \"green\",    8,  \"M\"],\n",
    "     [\"Karina\",    \"green\",    7,  \"F\"],\n",
    "     [\"Fernando\",  \"pink\",    -9,  \"M\"],\n",
    "     [\"Nhi\",       \"blue\",     3,  \"F\"],\n",
    "     [\"Sam\",       \"pink\",   -42,  \"M\"]], \n",
    "    columns = [\"Name\", \"Color\", \"Number\", \"Sex\"])\n",
    "df"
   ]
  },
  {
   "cell_type": "code",
   "execution_count": 26,
   "metadata": {},
   "outputs": [
    {
     "name": "stdout",
     "output_type": "stream",
     "text": [
      "<class 'pandas.core.groupby.groupby.DataFrameGroupBy'>\n",
      "('blue',      Name Color  Number Sex\n",
      "0    Joey  blue      42   M\n",
      "1  Weiwei  blue      50   F\n",
      "5     Nhi  blue       3   F) \n",
      "\n",
      "('green',      Name  Color  Number Sex\n",
      "2    Joey  green       8   M\n",
      "3  Karina  green       7   F) \n",
      "\n",
      "('pink',        Name Color  Number Sex\n",
      "4  Fernando  pink      -9   M\n",
      "6       Sam  pink     -42   M) \n",
      "\n"
     ]
    }
   ],
   "source": [
    "# group by Color\n",
    "grps = df.groupby(\"Color\")\n",
    "# type of the object grps is a GroupByObject\n",
    "print(type(grps))\n",
    "\n",
    "# this displays key and the dataframe(item) as a tuple (immutable panda list)\n",
    "for key in grps:\n",
    "    print(key, \"\\n\")"
   ]
  },
  {
   "cell_type": "code",
   "execution_count": 18,
   "metadata": {},
   "outputs": [
    {
     "name": "stdout",
     "output_type": "stream",
     "text": [
      "     Name Color  Number Sex\n",
      "0    Joey  blue      42   M\n",
      "1  Weiwei  blue      50   F\n",
      "5     Nhi  blue       3   F \n",
      "\n",
      "     Name  Color  Number Sex\n",
      "2    Joey  green       8   M\n",
      "3  Karina  green       7   F \n",
      "\n",
      "       Name Color  Number Sex\n",
      "4  Fernando  pink      -9   M\n",
      "6       Sam  pink     -42   M \n",
      "\n"
     ]
    }
   ],
   "source": [
    "# group by Color\n",
    "grps = df.groupby(\"Color\")\n",
    "# The keys[0]=key and item = keys[1] are the data frames that were grouped based on a key = 'color'\n",
    "for keys in grps:\n",
    "    print(keys[1], \"\\n\")"
   ]
  },
  {
   "cell_type": "code",
   "execution_count": 19,
   "metadata": {},
   "outputs": [
    {
     "name": "stdout",
     "output_type": "stream",
     "text": [
      "      count unique       top freq\n",
      "Color                            \n",
      "blue      3      3       Nhi    1\n",
      "green     2      2      Joey    1\n",
      "pink      2      2  Fernando    1\n",
      "---------------------------\n",
      "\n",
      "\n",
      "blue \n",
      "\n",
      "green \n",
      "\n",
      "pink \n",
      "\n",
      "---------------------------\n",
      "\n",
      "\n",
      "0      Joey\n",
      "1    Weiwei\n",
      "5       Nhi\n",
      "Name: Name, dtype: object \n",
      "\n",
      "2      Joey\n",
      "3    Karina\n",
      "Name: Name, dtype: object \n",
      "\n",
      "4    Fernando\n",
      "6         Sam\n",
      "Name: Name, dtype: object \n",
      "\n"
     ]
    }
   ],
   "source": [
    "# Group the people by Color\n",
    "people_by_color = df['Name'].groupby(df['Color'])\n",
    "\n",
    "print (people_by_color.describe())\n",
    "print(\"---------------------------\\n\\n\")\n",
    "for keys in people_by_color:\n",
    "    print(keys[0], \"\\n\")\n",
    "print(\"---------------------------\\n\\n\")\n",
    "for keys in people_by_color:\n",
    "    print(keys[1], '\\n')       # keys[1] is a series object\n",
    "    \n"
   ]
  },
  {
   "cell_type": "markdown",
   "metadata": {},
   "source": [
    "### Perform stats on each group"
   ]
  },
  {
   "cell_type": "code",
   "execution_count": 20,
   "metadata": {},
   "outputs": [
    {
     "data": {
      "text/html": [
       "<div>\n",
       "<style scoped>\n",
       "    .dataframe tbody tr th:only-of-type {\n",
       "        vertical-align: middle;\n",
       "    }\n",
       "\n",
       "    .dataframe tbody tr th {\n",
       "        vertical-align: top;\n",
       "    }\n",
       "\n",
       "    .dataframe thead th {\n",
       "        text-align: right;\n",
       "    }\n",
       "</style>\n",
       "<table border=\"1\" class=\"dataframe\">\n",
       "  <thead>\n",
       "    <tr style=\"text-align: right;\">\n",
       "      <th></th>\n",
       "      <th>Number</th>\n",
       "    </tr>\n",
       "    <tr>\n",
       "      <th>Color</th>\n",
       "      <th></th>\n",
       "    </tr>\n",
       "  </thead>\n",
       "  <tbody>\n",
       "    <tr>\n",
       "      <th>blue</th>\n",
       "      <td>42.0</td>\n",
       "    </tr>\n",
       "    <tr>\n",
       "      <th>green</th>\n",
       "      <td>7.5</td>\n",
       "    </tr>\n",
       "    <tr>\n",
       "      <th>pink</th>\n",
       "      <td>-25.5</td>\n",
       "    </tr>\n",
       "  </tbody>\n",
       "</table>\n",
       "</div>"
      ],
      "text/plain": [
       "       Number\n",
       "Color        \n",
       "blue     42.0\n",
       "green     7.5\n",
       "pink    -25.5"
      ]
     },
     "execution_count": 20,
     "metadata": {},
     "output_type": "execute_result"
    }
   ],
   "source": [
    "# sum items (summable) in each group\n",
    "grouped_by_color = df.groupby('Color')\n",
    "grouped_by_color.sum()\n",
    "grouped_by_color.mean()\n",
    "grouped_by_color.median()"
   ]
  },
  {
   "cell_type": "code",
   "execution_count": null,
   "metadata": {},
   "outputs": [],
   "source": [
    "# Most of the built-in handy aggregation methods are just shorthand for a universal \n",
    "# aggregation method called agg.\n",
    "# Example, .mean() is just .agg(np.mean).\n",
    "import numpy as np\n",
    "grouped_by_color.agg(np.mean)\n",
    "grouped_by_color.agg(np.max)\n",
    "grouped_by_color.agg(np.min)"
   ]
  },
  {
   "cell_type": "code",
   "execution_count": null,
   "metadata": {},
   "outputs": [],
   "source": [
    "grouped_by_color.describe()"
   ]
  },
  {
   "cell_type": "markdown",
   "metadata": {},
   "source": [
    "## Filter by Function"
   ]
  },
  {
   "cell_type": "code",
   "execution_count": null,
   "metadata": {},
   "outputs": [],
   "source": [
    "f = lambda sf: sf['Number'].mean() > 5\n",
    "grouped_by_color = df.groupby('Color')\n",
    "print(df)\n",
    "# filter all records whose mean is > 5\n",
    "grouped_by_color.filter(f)"
   ]
  },
  {
   "cell_type": "markdown",
   "metadata": {},
   "source": [
    "## group by two criterias"
   ]
  },
  {
   "cell_type": "code",
   "execution_count": null,
   "metadata": {},
   "outputs": [],
   "source": [
    "grouped_by_sex_and_color = df.groupby([df['Sex'],df['Color']])\n",
    "grouped_by_sex_and_color      # type is a DataFrameGroupBy\n",
    "# each item is a tuple of the form  ((criteria1, criteria2),dataFrame)\n",
    "for item in grouped_by_sex_and_color:\n",
    "    print(item, '\\n')       "
   ]
  },
  {
   "cell_type": "markdown",
   "metadata": {},
   "source": []
  },
  {
   "cell_type": "code",
   "execution_count": null,
   "metadata": {},
   "outputs": [],
   "source": [
    "df.groupby([\"Sex\", \"Color\"]).count()"
   ]
  },
  {
   "cell_type": "code",
   "execution_count": null,
   "metadata": {},
   "outputs": [],
   "source": [
    "import pandas as pd\n",
    "\n",
    "df = pd.DataFrame(\n",
    "    [[\"Joey\",      \"blue\",    42,  \"M\"],\n",
    "     [\"Weiwei\",    \"blue\",    'm',  \"F\"],\n",
    "     [\"Joey\",      10,    8,  \"M\"],\n",
    "     [\"Karina\",    \"green\",    7,  \"F\"],\n",
    "     [\"Fernando\",  \"pink\",    -9,  \"M\"],\n",
    "     [\"Nhi\",       \"blue\",     3,  \"F\"],\n",
    "     [\"Sam\",       \"pink\",   -42,  \"M\"]], \n",
    "    columns = [\"Name\", \"Color\", \"Number\", \"Sex\"])\n",
    "df.dtypes"
   ]
  },
  {
   "cell_type": "code",
   "execution_count": null,
   "metadata": {},
   "outputs": [],
   "source": [
    "tmp = pd.Series([51,21,3,3])\n",
    "tmp\n",
    "tmp[1:3]\n",
    "type(tmp)"
   ]
  },
  {
   "cell_type": "code",
   "execution_count": null,
   "metadata": {},
   "outputs": [],
   "source": []
  }
 ],
 "metadata": {
  "kernelspec": {
   "display_name": "Python 3",
   "language": "python",
   "name": "python3"
  },
  "language_info": {
   "codemirror_mode": {
    "name": "ipython",
    "version": 3
   },
   "file_extension": ".py",
   "mimetype": "text/x-python",
   "name": "python",
   "nbconvert_exporter": "python",
   "pygments_lexer": "ipython3",
   "version": "3.7.0"
  }
 },
 "nbformat": 4,
 "nbformat_minor": 2
}
